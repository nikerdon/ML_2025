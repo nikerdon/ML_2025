{
 "cells": [
  {
   "cell_type": "markdown",
   "metadata": {},
   "source": [
    "# Naive Bayes\n",
    "This is a simple model, which takes advantage of the categorical nature of our data. \n",
    "Input in the following form:\n",
    "\n",
    "\\[\"Age\" - 20 (int), \"Policy_Sales_Channel\" - 1 (int), \"Gender_Male\", \"Vehicle_Age_< 1 Year\", \"Vehicle_Age_> 2 Years\", \"Vehicle_Damage_Yes\", \"Previously_Insured_1\"\\]\n",
    "\n",
    "Could potentially improve by adding other features (and binning \"Annual_Premium\"), but may be better to add to an ensemble. Note, that in an ensemble, you will want to use the random train-test split to randomly remove values."
   ]
  },
  {
   "cell_type": "code",
   "execution_count": 2,
   "metadata": {},
   "outputs": [],
   "source": [
    "import pandas as pd\n",
    "import time\n",
    "import pickle\n",
    "from sklearn.preprocessing import StandardScaler, OneHotEncoder\n",
    "from sklearn.model_selection import train_test_split, GridSearchCV\n",
    "from sklearn.metrics import confusion_matrix, classification_report, f1_score\n",
    "from sklearn.model_selection import KFold, cross_val_score\n",
    "from sklearn.naive_bayes import CategoricalNB\n",
    "import numpy as np\n",
    "import seaborn as sns\n",
    "import matplotlib.pyplot as plt"
   ]
  },
  {
   "cell_type": "code",
   "execution_count": 3,
   "metadata": {},
   "outputs": [
    {
     "name": "stdout",
     "output_type": "stream",
     "text": [
      "\n",
      "Названия столбцов:\n",
      "['id', 'Gender', 'Age', 'Driving_License', 'Region_Code', 'Previously_Insured', 'Vehicle_Age', 'Vehicle_Damage', 'Annual_Premium', 'Policy_Sales_Channel', 'Vintage', 'Response']\n",
      "\n",
      "\n",
      "id                      5000001\n",
      "Gender                        2\n",
      "Age                          66\n",
      "Driving_License               2\n",
      "Region_Code                  53\n",
      "Previously_Insured            2\n",
      "Vehicle_Age                   3\n",
      "Vehicle_Damage                2\n",
      "Annual_Premium            48219\n",
      "Policy_Sales_Channel        149\n",
      "Vintage                     290\n",
      "Response                      2\n",
      "dtype: int64\n"
     ]
    }
   ],
   "source": [
    "#Чтение данных\n",
    "data = pd.read_csv('train_short.csv')\n",
    "# Показать названия всех столбцов\n",
    "print(\"\\nНазвания столбцов:\")\n",
    "print(data.columns.tolist())\n",
    "print(\"\\n\")\n",
    "# Показать первые несколько строк\n",
    "print(data.nunique(axis=0))\n",
    "dataT = pd.read_csv('test_short.csv')"
   ]
  },
  {
   "cell_type": "markdown",
   "metadata": {
    "jp-MarkdownHeadingCollapsed": true
   },
   "source": [
    "# Binning Code\n",
    "If we want to use Annual_Premium, we probably want 10 - 100 in each bin. The problem is not completely visible here, as the class sizes are also very unequal."
   ]
  },
  {
   "cell_type": "code",
   "execution_count": 139,
   "metadata": {},
   "outputs": [],
   "source": [
    "count = data.value_counts(subset=['Annual_Premium'], sort = False)"
   ]
  },
  {
   "cell_type": "code",
   "execution_count": 145,
   "metadata": {},
   "outputs": [
    {
     "data": {
      "text/plain": [
       "Annual_Premium\n",
       "2630.0            917778\n",
       "2642.0                 1\n",
       "2698.0                 1\n",
       "2730.0                 4\n",
       "2743.0                 1\n",
       "                   ...  \n",
       "522684.0               1\n",
       "527007.0               1\n",
       "537303.0               1\n",
       "538374.0               1\n",
       "540165.0              34\n",
       "Name: count, Length: 48219, dtype: int64"
      ]
     },
     "execution_count": 145,
     "metadata": {},
     "output_type": "execute_result"
    }
   ],
   "source": [
    "count"
   ]
  },
  {
   "cell_type": "code",
   "execution_count": 143,
   "metadata": {},
   "outputs": [
    {
     "name": "stdout",
     "output_type": "stream",
     "text": [
      "[917778      1      1 ...      1      1     34]\n"
     ]
    }
   ],
   "source": [
    "x = count.to_numpy()\n",
    "print(x)"
   ]
  },
  {
   "cell_type": "code",
   "execution_count": 147,
   "metadata": {},
   "outputs": [],
   "source": [
    "yt = data[['Annual_Premium']]"
   ]
  },
  {
   "cell_type": "code",
   "execution_count": 149,
   "metadata": {},
   "outputs": [
    {
     "name": "stdout",
     "output_type": "stream",
     "text": [
      "[[65101.]\n",
      " [58911.]\n",
      " [38043.]\n",
      " ...\n",
      " [28302.]\n",
      " [28447.]\n",
      " [ 2630.]]\n"
     ]
    }
   ],
   "source": [
    "yv = yt.to_numpy()\n",
    "print(yv)"
   ]
  },
  {
   "cell_type": "code",
   "execution_count": 155,
   "metadata": {},
   "outputs": [
    {
     "name": "stdout",
     "output_type": "stream",
     "text": [
      "[65101. 58911. 38043. ... 28302. 28447.  2630.]\n"
     ]
    }
   ],
   "source": [
    "yv = yv.flatten()\n",
    "print(yv)"
   ]
  },
  {
   "cell_type": "code",
   "execution_count": 157,
   "metadata": {},
   "outputs": [
    {
     "name": "stdout",
     "output_type": "stream",
     "text": [
      "[  2630.   2630.   2630. ... 540165. 540165. 540165.]\n"
     ]
    }
   ],
   "source": [
    "y = np.sort(yv)\n",
    "print(y)"
   ]
  },
  {
   "cell_type": "code",
   "execution_count": 165,
   "metadata": {},
   "outputs": [],
   "source": [
    "ys = set(yv)\n",
    "yl = list(ys)\n",
    "y = np.array(yl)"
   ]
  },
  {
   "cell_type": "code",
   "execution_count": 169,
   "metadata": {},
   "outputs": [
    {
     "name": "stdout",
     "output_type": "stream",
     "text": [
      "[  2630.   2642.   2698. ... 537303. 538374. 540165.]\n"
     ]
    }
   ],
   "source": [
    "y = np.sort(y)\n",
    "print(y)"
   ]
  },
  {
   "cell_type": "code",
   "execution_count": 181,
   "metadata": {},
   "outputs": [
    {
     "data": {
      "image/png": "[encoded data removed]",
      "text/plain": [
       "<Figure size 640x480 with 1 Axes>"
      ]
     },
     "metadata": {},
     "output_type": "display_data"
    }
   ],
   "source": [
    "# plot\n",
    "fig, ax = plt.subplots()\n",
    "\n",
    "ax.plot(np.log(y[1:]), np.log(x[1:]))\n",
    "\n",
    "plt.show()"
   ]
  },
  {
   "cell_type": "code",
   "execution_count": 193,
   "metadata": {},
   "outputs": [
    {
     "data": {
      "text/plain": [
       "126753.55900574342"
      ]
     },
     "execution_count": 193,
     "metadata": {},
     "output_type": "execute_result"
    }
   ],
   "source": [
    "np.exp(11.75)"
   ]
  },
  {
   "cell_type": "markdown",
   "metadata": {},
   "source": [
    "Bin {min} = \"< 12500\", Bin {max} = \"> 250000\", Bin {max - 1} = \"> 125000\""
   ]
  },
  {
   "cell_type": "markdown",
   "metadata": {},
   "source": [
    "# Bayes Code"
   ]
  },
  {
   "cell_type": "code",
   "execution_count": 5,
   "metadata": {},
   "outputs": [
    {
     "name": "stdout",
     "output_type": "stream",
     "text": [
      "<class 'pandas.core.frame.DataFrame'>\n",
      "RangeIndex: 5000001 entries, 0 to 5000000\n",
      "Data columns (total 12 columns):\n",
      " #   Column                Dtype  \n",
      "---  ------                -----  \n",
      " 0   id                    int64  \n",
      " 1   Gender                object \n",
      " 2   Age                   int64  \n",
      " 3   Driving_License       int64  \n",
      " 4   Region_Code           float64\n",
      " 5   Previously_Insured    int64  \n",
      " 6   Vehicle_Age           object \n",
      " 7   Vehicle_Damage        object \n",
      " 8   Annual_Premium        float64\n",
      " 9   Policy_Sales_Channel  float64\n",
      " 10  Vintage               int64  \n",
      " 11  Response              int64  \n",
      "dtypes: float64(3), int64(6), object(3)\n",
      "memory usage: 457.8+ MB\n"
     ]
    }
   ],
   "source": [
    "# Удаляем строки с пропущенными значениями (их нет)\n",
    "data = data.dropna()\n",
    "dataT = dataT.dropna()\n",
    "data.info()"
   ]
  },
  {
   "cell_type": "code",
   "execution_count": 6,
   "metadata": {},
   "outputs": [],
   "source": [
    "#Оставляем только нужные столбцы\n",
    "#columns_to_keep = ['Response', 'Gender', 'Age', 'Driving_License', 'Region_Code', 'Previously_Insured', 'Vehicle_Age', 'Vehicle_Damage', 'Annual_Premium', 'Policy_Sales_Channel', 'Vintage']\n",
    "#columns_to_keep = ['Response', 'Gender', 'Age', 'Driving_License', 'Previously_Insured', 'Vehicle_Age', 'Vehicle_Damage', 'Annual_Premium', 'Policy_Sales_Channel']\n",
    "columns_to_keep = ['Response', 'Gender', 'Age', 'Previously_Insured', 'Vehicle_Age', 'Vehicle_Damage', 'Policy_Sales_Channel']\n",
    "data = data[columns_to_keep]\n",
    "dataT = dataT[columns_to_keep]"
   ]
  },
  {
   "cell_type": "code",
   "execution_count": 31,
   "metadata": {},
   "outputs": [],
   "source": [
    "#testD = pd.read_csv('test_short.csv')\n",
    "#testD = testD[columns_to_keep]\n",
    "#testD.head()"
   ]
  },
  {
   "cell_type": "code",
   "execution_count": 7,
   "metadata": {},
   "outputs": [],
   "source": [
    "# One-hot кодирование категориальных признаков\n",
    "#categorical_features = ['Gender', 'Vehicle_Age', 'Vehicle_Damage', 'Driving_License', 'Previously_Insured']\n",
    "categorical_features = ['Gender', 'Vehicle_Age', 'Vehicle_Damage', 'Previously_Insured']\n",
    "\n",
    "data = pd.get_dummies(data, columns=categorical_features, drop_first=True)\n",
    "dataT = pd.get_dummies(dataT, columns=categorical_features, drop_first=True)\n",
    "\n",
    "length = len(data)"
   ]
  },
  {
   "cell_type": "code",
   "execution_count": 36,
   "metadata": {},
   "outputs": [],
   "source": [
    "#testD = pd.get_dummies(testD, columns=categorical_features, drop_first=True)"
   ]
  },
  {
   "cell_type": "code",
   "execution_count": 8,
   "metadata": {},
   "outputs": [],
   "source": [
    "# Нормализация числовых признаков\n",
    "#numeric_features = [\"Age\", 'Region_Code', 'Annual_Premium', 'Policy_Sales_Channel', 'Vintage']\n",
    "#numeric_features = [\"Age\", 'Annual_Premium', 'Policy_Sales_Channel']\n",
    "numeric_features = [\"Age\", 'Policy_Sales_Channel']"
   ]
  },
  {
   "cell_type": "code",
   "execution_count": 9,
   "metadata": {},
   "outputs": [
    {
     "data": {
      "text/plain": [
       "Response\n",
       "0    4384720\n",
       "1     615281\n",
       "Name: count, dtype: int64"
      ]
     },
     "execution_count": 9,
     "metadata": {},
     "output_type": "execute_result"
    }
   ],
   "source": [
    "#Данные несбалансированные\n",
    "data.Response.value_counts()"
   ]
  },
  {
   "cell_type": "code",
   "execution_count": 10,
   "metadata": {},
   "outputs": [
    {
     "data": {
      "text/html": [
       "<div>\n",
       "<style scoped>\n",
       "    .dataframe tbody tr th:only-of-type {\n",
       "        vertical-align: middle;\n",
       "    }\n",
       "\n",
       "    .dataframe tbody tr th {\n",
       "        vertical-align: top;\n",
       "    }\n",
       "\n",
       "    .dataframe thead th {\n",
       "        text-align: right;\n",
       "    }\n",
       "</style>\n",
       "<table border=\"1\" class=\"dataframe\">\n",
       "  <thead>\n",
       "    <tr style=\"text-align: right;\">\n",
       "      <th></th>\n",
       "      <th>Response</th>\n",
       "      <th>Age</th>\n",
       "      <th>Policy_Sales_Channel</th>\n",
       "      <th>Gender_Male</th>\n",
       "      <th>Vehicle_Age_&lt; 1 Year</th>\n",
       "      <th>Vehicle_Age_&gt; 2 Years</th>\n",
       "      <th>Vehicle_Damage_Yes</th>\n",
       "      <th>Previously_Insured_1</th>\n",
       "    </tr>\n",
       "  </thead>\n",
       "  <tbody>\n",
       "    <tr>\n",
       "      <th>0</th>\n",
       "      <td>1</td>\n",
       "      <td>61</td>\n",
       "      <td>30</td>\n",
       "      <td>True</td>\n",
       "      <td>False</td>\n",
       "      <td>True</td>\n",
       "      <td>True</td>\n",
       "      <td>False</td>\n",
       "    </tr>\n",
       "    <tr>\n",
       "      <th>1</th>\n",
       "      <td>0</td>\n",
       "      <td>44</td>\n",
       "      <td>122</td>\n",
       "      <td>True</td>\n",
       "      <td>False</td>\n",
       "      <td>False</td>\n",
       "      <td>False</td>\n",
       "      <td>True</td>\n",
       "    </tr>\n",
       "    <tr>\n",
       "      <th>2</th>\n",
       "      <td>0</td>\n",
       "      <td>25</td>\n",
       "      <td>152</td>\n",
       "      <td>True</td>\n",
       "      <td>True</td>\n",
       "      <td>False</td>\n",
       "      <td>False</td>\n",
       "      <td>False</td>\n",
       "    </tr>\n",
       "    <tr>\n",
       "      <th>3</th>\n",
       "      <td>0</td>\n",
       "      <td>26</td>\n",
       "      <td>160</td>\n",
       "      <td>False</td>\n",
       "      <td>True</td>\n",
       "      <td>False</td>\n",
       "      <td>False</td>\n",
       "      <td>True</td>\n",
       "    </tr>\n",
       "    <tr>\n",
       "      <th>4</th>\n",
       "      <td>0</td>\n",
       "      <td>28</td>\n",
       "      <td>152</td>\n",
       "      <td>True</td>\n",
       "      <td>True</td>\n",
       "      <td>False</td>\n",
       "      <td>False</td>\n",
       "      <td>True</td>\n",
       "    </tr>\n",
       "  </tbody>\n",
       "</table>\n",
       "</div>"
      ],
      "text/plain": [
       "   Response  Age  Policy_Sales_Channel  Gender_Male  Vehicle_Age_< 1 Year  \\\n",
       "0         1   61                    30         True                 False   \n",
       "1         0   44                   122         True                 False   \n",
       "2         0   25                   152         True                  True   \n",
       "3         0   26                   160        False                  True   \n",
       "4         0   28                   152         True                  True   \n",
       "\n",
       "   Vehicle_Age_> 2 Years  Vehicle_Damage_Yes  Previously_Insured_1  \n",
       "0                   True                True                 False  \n",
       "1                  False               False                  True  \n",
       "2                  False               False                 False  \n",
       "3                  False               False                  True  \n",
       "4                  False               False                  True  "
      ]
     },
     "execution_count": 10,
     "metadata": {},
     "output_type": "execute_result"
    }
   ],
   "source": [
    "data[numeric_features] = data[numeric_features].convert_dtypes()\n",
    "dataT[numeric_features] = dataT[numeric_features].convert_dtypes()\n",
    "dataT.head()"
   ]
  },
  {
   "cell_type": "code",
   "execution_count": 11,
   "metadata": {},
   "outputs": [
    {
     "name": "stdout",
     "output_type": "stream",
     "text": [
      "Response                   2\n",
      "Age                       66\n",
      "Policy_Sales_Channel     149\n",
      "Gender_Male                2\n",
      "Vehicle_Age_< 1 Year       2\n",
      "Vehicle_Age_> 2 Years      2\n",
      "Vehicle_Damage_Yes         2\n",
      "Previously_Insured_1       2\n",
      "dtype: int64\n"
     ]
    }
   ],
   "source": [
    "print(data.nunique(axis=0))"
   ]
  },
  {
   "cell_type": "code",
   "execution_count": 21,
   "metadata": {},
   "outputs": [],
   "source": [
    "#count = data.value_counts(subset=['Policy_Sales_Channel'])\n",
    "#print(count)\n",
    "#print(np.sum(np.equal(count.to_numpy(), 1)))\n",
    "#data[\"Policy_Sales_Channel\"].min()"
   ]
  },
  {
   "cell_type": "code",
   "execution_count": 12,
   "metadata": {},
   "outputs": [],
   "source": [
    "# Renormalization\n",
    "data[\"Age\"] = data[\"Age\"] - 20\n",
    "data[\"Policy_Sales_Channel\"] = data[\"Policy_Sales_Channel\"] - 1\n",
    "dataT[\"Age\"] = dataT[\"Age\"] - 20\n",
    "dataT[\"Policy_Sales_Channel\"] = dataT[\"Policy_Sales_Channel\"] - 1"
   ]
  },
  {
   "cell_type": "code",
   "execution_count": 13,
   "metadata": {},
   "outputs": [
    {
     "data": {
      "text/html": [
       "<div>\n",
       "<style scoped>\n",
       "    .dataframe tbody tr th:only-of-type {\n",
       "        vertical-align: middle;\n",
       "    }\n",
       "\n",
       "    .dataframe tbody tr th {\n",
       "        vertical-align: top;\n",
       "    }\n",
       "\n",
       "    .dataframe thead th {\n",
       "        text-align: right;\n",
       "    }\n",
       "</style>\n",
       "<table border=\"1\" class=\"dataframe\">\n",
       "  <thead>\n",
       "    <tr style=\"text-align: right;\">\n",
       "      <th></th>\n",
       "      <th>Response</th>\n",
       "      <th>Age</th>\n",
       "      <th>Policy_Sales_Channel</th>\n",
       "      <th>Gender_Male</th>\n",
       "      <th>Vehicle_Age_&lt; 1 Year</th>\n",
       "      <th>Vehicle_Age_&gt; 2 Years</th>\n",
       "      <th>Vehicle_Damage_Yes</th>\n",
       "      <th>Previously_Insured_1</th>\n",
       "    </tr>\n",
       "  </thead>\n",
       "  <tbody>\n",
       "    <tr>\n",
       "      <th>0</th>\n",
       "      <td>0</td>\n",
       "      <td>1</td>\n",
       "      <td>123</td>\n",
       "      <td>True</td>\n",
       "      <td>False</td>\n",
       "      <td>False</td>\n",
       "      <td>True</td>\n",
       "      <td>False</td>\n",
       "    </tr>\n",
       "    <tr>\n",
       "      <th>1</th>\n",
       "      <td>1</td>\n",
       "      <td>23</td>\n",
       "      <td>25</td>\n",
       "      <td>True</td>\n",
       "      <td>False</td>\n",
       "      <td>True</td>\n",
       "      <td>True</td>\n",
       "      <td>False</td>\n",
       "    </tr>\n",
       "    <tr>\n",
       "      <th>2</th>\n",
       "      <td>0</td>\n",
       "      <td>5</td>\n",
       "      <td>151</td>\n",
       "      <td>False</td>\n",
       "      <td>True</td>\n",
       "      <td>False</td>\n",
       "      <td>False</td>\n",
       "      <td>True</td>\n",
       "    </tr>\n",
       "    <tr>\n",
       "      <th>3</th>\n",
       "      <td>0</td>\n",
       "      <td>15</td>\n",
       "      <td>155</td>\n",
       "      <td>False</td>\n",
       "      <td>False</td>\n",
       "      <td>False</td>\n",
       "      <td>True</td>\n",
       "      <td>False</td>\n",
       "    </tr>\n",
       "    <tr>\n",
       "      <th>4</th>\n",
       "      <td>0</td>\n",
       "      <td>16</td>\n",
       "      <td>151</td>\n",
       "      <td>False</td>\n",
       "      <td>False</td>\n",
       "      <td>False</td>\n",
       "      <td>False</td>\n",
       "      <td>True</td>\n",
       "    </tr>\n",
       "  </tbody>\n",
       "</table>\n",
       "</div>"
      ],
      "text/plain": [
       "   Response  Age  Policy_Sales_Channel  Gender_Male  Vehicle_Age_< 1 Year  \\\n",
       "0         0    1                   123         True                 False   \n",
       "1         1   23                    25         True                 False   \n",
       "2         0    5                   151        False                  True   \n",
       "3         0   15                   155        False                 False   \n",
       "4         0   16                   151        False                 False   \n",
       "\n",
       "   Vehicle_Age_> 2 Years  Vehicle_Damage_Yes  Previously_Insured_1  \n",
       "0                  False                True                 False  \n",
       "1                   True                True                 False  \n",
       "2                  False               False                  True  \n",
       "3                  False                True                 False  \n",
       "4                  False               False                  True  "
      ]
     },
     "execution_count": 13,
     "metadata": {},
     "output_type": "execute_result"
    }
   ],
   "source": [
    "data.head()"
   ]
  },
  {
   "cell_type": "code",
   "execution_count": 14,
   "metadata": {},
   "outputs": [],
   "source": [
    "# Разделение на признаки (X) и целевую переменную (y)\n",
    "X_train = data.drop('Response', axis=1)\n",
    "y_train = data['Response']\n",
    "X_test = dataT.drop('Response', axis=1)\n",
    "y_test = dataT['Response']\n",
    "\n",
    "# Разделение на обучающую и тестовую выборки. Только для проверки PCA, потом надо заменить на кросс-валидацию\n",
    "#X_train, X_test, y_train, y_test = train_test_split(X, y, test_size=0.20, stratify=y)"
   ]
  },
  {
   "cell_type": "code",
   "execution_count": 15,
   "metadata": {},
   "outputs": [
    {
     "name": "stdout",
     "output_type": "stream",
     "text": [
      "0.7415066142725131\n",
      "Time:  5.4469780921936035  sec or  0.09078296820322672 min\n"
     ]
    }
   ],
   "source": [
    "t_start = time.time()\n",
    "\n",
    "n_cat = [65, 170, 2, 2, 2, 2, 2]\n",
    "\n",
    "clf = CategoricalNB(min_categories = n_cat)\n",
    "clf.fit(X_train, y_train)\n",
    "\n",
    "\n",
    "t_finish = time.time()\n",
    "dt = t_finish - t_start\n",
    "dt2 = dt / 60.\n",
    "\n",
    "print(clf.score(X_test, y_test))\n",
    "print(\"Time: \",  dt, \" sec or \", dt2, \"min\")"
   ]
  },
  {
   "cell_type": "code",
   "execution_count": 17,
   "metadata": {},
   "outputs": [],
   "source": [
    "y_lab = clf.predict(X_test)"
   ]
  },
  {
   "cell_type": "code",
   "execution_count": 18,
   "metadata": {},
   "outputs": [
    {
     "data": {
      "text/plain": [
       "0.4351341191425862"
      ]
     },
     "execution_count": 18,
     "metadata": {},
     "output_type": "execute_result"
    }
   ],
   "source": [
    "f1_score(y_test, y_lab)"
   ]
  },
  {
   "cell_type": "code",
   "execution_count": 21,
   "metadata": {},
   "outputs": [
    {
     "name": "stdout",
     "output_type": "stream",
     "text": [
      "              precision    recall  f1-score   support\n",
      "\n",
      "           0       0.96      0.73      0.83   5705019\n",
      "           1       0.30      0.81      0.44    799778\n",
      "\n",
      "    accuracy                           0.74   6504797\n",
      "   macro avg       0.63      0.77      0.63   6504797\n",
      "weighted avg       0.88      0.74      0.78   6504797\n",
      "\n"
     ]
    }
   ],
   "source": [
    "confusion_matrix(y_test, y_lab)\n",
    "print(classification_report(y_test, y_lab))"
   ]
  },
  {
   "cell_type": "code",
   "execution_count": 38,
   "metadata": {},
   "outputs": [],
   "source": [
    "#clf.fit(X, y)"
   ]
  },
  {
   "cell_type": "code",
   "execution_count": null,
   "metadata": {},
   "outputs": [],
   "source": [
    "# other variants -- \n",
    "# annual premium can be added back in, but needs to be binned\n",
    "# perhaps accounting for correlation is possible 150 * 66 * 2^5 = 316 800 (out of 5 mil)\n",
    "# this could be put in an ensemble with another model (like decision tree without policy channel) "
   ]
  },
  {
   "cell_type": "code",
   "execution_count": 100,
   "metadata": {},
   "outputs": [
    {
     "name": "stdout",
     "output_type": "stream",
     "text": [
      "Модель сохранена в файл: bayes_class_model_001.pkl\n"
     ]
    }
   ],
   "source": [
    "# Сохранение модели в файл\n",
    "model_filename = \"bayes_class_model_001.pkl\"\n",
    "with open(model_filename, 'wb') as file:\n",
    "    pickle.dump(clf, file)\n",
    "print(f\"Модель сохранена в файл: {model_filename}\")"
   ]
  },
  {
   "cell_type": "code",
   "execution_count": null,
   "metadata": {},
   "outputs": [],
   "source": []
  }
 ],
 "metadata": {
  "kernelspec": {
   "display_name": "Python [conda env:base] *",
   "language": "python",
   "name": "conda-base-py"
  },
  "language_info": {
   "codemirror_mode": {
    "name": "ipython",
    "version": 3
   },
   "file_extension": ".py",
   "mimetype": "text/x-python",
   "name": "python",
   "nbconvert_exporter": "python",
   "pygments_lexer": "ipython3",
   "version": "3.12.9"
  }
 },
 "nbformat": 4,
 "nbformat_minor": 4
}
